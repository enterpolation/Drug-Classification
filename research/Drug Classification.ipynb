{
 "cells": [
  {
   "cell_type": "markdown",
   "id": "698927a5",
   "metadata": {},
   "source": [
    "# Классификация типов медикаментов"
   ]
  },
  {
   "cell_type": "markdown",
   "id": "28ec25de",
   "metadata": {},
   "source": [
    "Данные были получены от фармацевтической компании, которая собирала информацию о пациентах и типах медикаментов, которые в итоге использовались в качестве лечения. Наша задача состоит в том, чтобы на основе этих данных определить, какой тип медикамента подойдет для человека с определенным набором симптомов и характеристик."
   ]
  },
  {
   "cell_type": "code",
   "execution_count": 1,
   "id": "62345bc8",
   "metadata": {},
   "outputs": [],
   "source": [
    "import numpy as np\n",
    "import pandas as pd\n",
    "import matplotlib.pyplot as plt\n",
    "import seaborn as sns"
   ]
  },
  {
   "cell_type": "code",
   "execution_count": 2,
   "id": "50cac784",
   "metadata": {},
   "outputs": [],
   "source": [
    "import warnings\n",
    "warnings.filterwarnings('ignore')"
   ]
  },
  {
   "cell_type": "markdown",
   "id": "818f7c15",
   "metadata": {
    "toc": true
   },
   "source": [
    "<h1>Содержание<span class=\"tocSkip\"></span></h1>\n",
    "<div class=\"toc\"><ul class=\"toc-item\"><li><span><a href=\"#EDA\" data-toc-modified-id=\"EDA-1\">EDA</a></span><ul class=\"toc-item\"><li><span><a href=\"#Описание-данных\" data-toc-modified-id=\"Описание-данных-1.1\">Описание данных</a></span><ul class=\"toc-item\"><li><span><a href=\"#Названия-признаков-и-размер-датасета\" data-toc-modified-id=\"Названия-признаков-и-размер-датасета-1.1.1\">Названия признаков и размер датасета</a></span></li><li><span><a href=\"#Определение-признаков\" data-toc-modified-id=\"Определение-признаков-1.1.2\">Определение признаков</a></span></li><li><span><a href=\"#Основные-статистики\" data-toc-modified-id=\"Основные-статистики-1.1.3\">Основные статистики</a></span></li><li><span><a href=\"#Значения-категориальных-признаков\" data-toc-modified-id=\"Значения-категориальных-признаков-1.1.4\">Значения категориальных признаков</a></span></li><li><span><a href=\"#Распределения-вещественных-признаков\" data-toc-modified-id=\"Распределения-вещественных-признаков-1.1.5\">Распределения вещественных признаков</a></span></li><li><span><a href=\"#Целевая-переменная\" data-toc-modified-id=\"Целевая-переменная-1.1.6\">Целевая переменная</a></span></li></ul></li><li><span><a href=\"#Выявление-зависимостей\" data-toc-modified-id=\"Выявление-зависимостей-1.2\">Выявление зависимостей</a></span><ul class=\"toc-item\"><li><span><a href=\"#Матрица-корреляций\" data-toc-modified-id=\"Матрица-корреляций-1.2.1\">Матрица корреляций</a></span></li><li><span><a href=\"#Зависимости-между-категориальными-признаками\" data-toc-modified-id=\"Зависимости-между-категориальными-признаками-1.2.2\">Зависимости между категориальными признаками</a></span></li><li><span><a href=\"#Проверка-зависимостей-между-категориальными-признаками-и-целевой-переменной\" data-toc-modified-id=\"Проверка-зависимостей-между-категориальными-признаками-и-целевой-переменной-1.2.3\">Проверка зависимостей между категориальными признаками и целевой переменной</a></span></li><li><span><a href=\"#Проверка-зависимостей-между-вещественными-признаками-и-целевой-переменной\" data-toc-modified-id=\"Проверка-зависимостей-между-вещественными-признаками-и-целевой-переменной-1.2.4\">Проверка зависимостей между вещественными признаками и целевой переменной</a></span></li><li><span><a href=\"#Возможные-выбросы\" data-toc-modified-id=\"Возможные-выбросы-1.2.5\">Возможные выбросы</a></span></li></ul></li><li><span><a href=\"#Основная-гипотеза\" data-toc-modified-id=\"Основная-гипотеза-1.3\">Основная гипотеза</a></span></li><li><span><a href=\"#Проверка-гипотезы\" data-toc-modified-id=\"Проверка-гипотезы-1.4\">Проверка гипотезы</a></span></li></ul></li><li><span><a href=\"#Подготовка-данных\" data-toc-modified-id=\"Подготовка-данных-2\">Подготовка данных</a></span></li><li><span><a href=\"#Моделирование\" data-toc-modified-id=\"Моделирование-3\">Моделирование</a></span><ul class=\"toc-item\"><li><span><a href=\"#KNN\" data-toc-modified-id=\"KNN-3.1\">KNN</a></span><ul class=\"toc-item\"><li><span><a href=\"#Предсказание\" data-toc-modified-id=\"Предсказание-3.1.1\">Предсказание</a></span></li><li><span><a href=\"#Подбор-гиперпараметров\" data-toc-modified-id=\"Подбор-гиперпараметров-3.1.2\">Подбор гиперпараметров</a></span></li><li><span><a href=\"#Итоговый-результат\" data-toc-modified-id=\"Итоговый-результат-3.1.3\">Итоговый результат</a></span></li></ul></li><li><span><a href=\"#Logistic-Regression\" data-toc-modified-id=\"Logistic-Regression-3.2\">Logistic Regression</a></span><ul class=\"toc-item\"><li><span><a href=\"#Предсказание\" data-toc-modified-id=\"Предсказание-3.2.1\">Предсказание</a></span></li><li><span><a href=\"#Подбор-гиперпараметров\" data-toc-modified-id=\"Подбор-гиперпараметров-3.2.2\">Подбор гиперпараметров</a></span></li><li><span><a href=\"#Итоговый-результат\" data-toc-modified-id=\"Итоговый-результат-3.2.3\">Итоговый результат</a></span></li><li><span><a href=\"#Интерпретация-модели\" data-toc-modified-id=\"Интерпретация-модели-3.2.4\">Интерпретация модели</a></span></li></ul></li><li><span><a href=\"#Decision-Tree\" data-toc-modified-id=\"Decision-Tree-3.3\">Decision Tree</a></span><ul class=\"toc-item\"><li><span><a href=\"#Предсказание\" data-toc-modified-id=\"Предсказание-3.3.1\">Предсказание</a></span></li><li><span><a href=\"#Подбор-гиперпараметров\" data-toc-modified-id=\"Подбор-гиперпараметров-3.3.2\">Подбор гиперпараметров</a></span></li><li><span><a href=\"#Итоговый-результат\" data-toc-modified-id=\"Итоговый-результат-3.3.3\">Итоговый результат</a></span></li><li><span><a href=\"#Интерпретация-модели\" data-toc-modified-id=\"Интерпретация-модели-3.3.4\">Интерпретация модели</a></span></li></ul></li><li><span><a href=\"#Выводы\" data-toc-modified-id=\"Выводы-3.4\">Выводы</a></span></li></ul></li></ul></div>"
   ]
  },
  {
   "cell_type": "markdown",
   "id": "87cbae52",
   "metadata": {},
   "source": [
    "## EDA"
   ]
  },
  {
   "cell_type": "markdown",
   "id": "2eeeb49b",
   "metadata": {},
   "source": [
    "### Описание данных"
   ]
  },
  {
   "cell_type": "markdown",
   "id": "5e793af6",
   "metadata": {},
   "source": [
    "#### Названия признаков и размер датасета"
   ]
  },
  {
   "cell_type": "code",
   "execution_count": 3,
   "id": "c971c85f",
   "metadata": {},
   "outputs": [],
   "source": [
    "data = pd.read_csv('drug200.csv')"
   ]
  },
  {
   "cell_type": "code",
   "execution_count": 4,
   "id": "503c7dce",
   "metadata": {},
   "outputs": [
    {
     "data": {
      "text/html": [
       "<div>\n",
       "<style scoped>\n",
       "    .dataframe tbody tr th:only-of-type {\n",
       "        vertical-align: middle;\n",
       "    }\n",
       "\n",
       "    .dataframe tbody tr th {\n",
       "        vertical-align: top;\n",
       "    }\n",
       "\n",
       "    .dataframe thead th {\n",
       "        text-align: right;\n",
       "    }\n",
       "</style>\n",
       "<table border=\"1\" class=\"dataframe\">\n",
       "  <thead>\n",
       "    <tr style=\"text-align: right;\">\n",
       "      <th></th>\n",
       "      <th>Age</th>\n",
       "      <th>Sex</th>\n",
       "      <th>BP</th>\n",
       "      <th>Cholesterol</th>\n",
       "      <th>Na_to_K</th>\n",
       "      <th>Drug</th>\n",
       "    </tr>\n",
       "  </thead>\n",
       "  <tbody>\n",
       "    <tr>\n",
       "      <th>0</th>\n",
       "      <td>23</td>\n",
       "      <td>F</td>\n",
       "      <td>HIGH</td>\n",
       "      <td>HIGH</td>\n",
       "      <td>25.355</td>\n",
       "      <td>DrugY</td>\n",
       "    </tr>\n",
       "    <tr>\n",
       "      <th>1</th>\n",
       "      <td>47</td>\n",
       "      <td>M</td>\n",
       "      <td>LOW</td>\n",
       "      <td>HIGH</td>\n",
       "      <td>13.093</td>\n",
       "      <td>drugC</td>\n",
       "    </tr>\n",
       "    <tr>\n",
       "      <th>2</th>\n",
       "      <td>47</td>\n",
       "      <td>M</td>\n",
       "      <td>LOW</td>\n",
       "      <td>HIGH</td>\n",
       "      <td>10.114</td>\n",
       "      <td>drugC</td>\n",
       "    </tr>\n",
       "    <tr>\n",
       "      <th>3</th>\n",
       "      <td>28</td>\n",
       "      <td>F</td>\n",
       "      <td>NORMAL</td>\n",
       "      <td>HIGH</td>\n",
       "      <td>7.798</td>\n",
       "      <td>drugX</td>\n",
       "    </tr>\n",
       "    <tr>\n",
       "      <th>4</th>\n",
       "      <td>61</td>\n",
       "      <td>F</td>\n",
       "      <td>LOW</td>\n",
       "      <td>HIGH</td>\n",
       "      <td>18.043</td>\n",
       "      <td>DrugY</td>\n",
       "    </tr>\n",
       "  </tbody>\n",
       "</table>\n",
       "</div>"
      ],
      "text/plain": [
       "   Age Sex      BP Cholesterol  Na_to_K   Drug\n",
       "0   23   F    HIGH        HIGH   25.355  DrugY\n",
       "1   47   M     LOW        HIGH   13.093  drugC\n",
       "2   47   M     LOW        HIGH   10.114  drugC\n",
       "3   28   F  NORMAL        HIGH    7.798  drugX\n",
       "4   61   F     LOW        HIGH   18.043  DrugY"
      ]
     },
     "execution_count": 4,
     "metadata": {},
     "output_type": "execute_result"
    }
   ],
   "source": [
    "data.head()"
   ]
  },
  {
   "cell_type": "code",
   "execution_count": 5,
   "id": "5a6665dd",
   "metadata": {},
   "outputs": [
    {
     "data": {
      "text/plain": [
       "(200, 6)"
      ]
     },
     "execution_count": 5,
     "metadata": {},
     "output_type": "execute_result"
    }
   ],
   "source": [
    "data.shape"
   ]
  },
  {
   "cell_type": "markdown",
   "id": "3cb54866",
   "metadata": {},
   "source": [
    "Сократим названия типов медикаментов."
   ]
  },
  {
   "cell_type": "code",
   "execution_count": 6,
   "id": "a8c28aeb",
   "metadata": {},
   "outputs": [],
   "source": [
    "data['Drug'].replace({'DrugY':'Y', 'drugX':'X', 'drugA':'A', 'drugC':'C', 'drugB':'B'}, inplace = True)\n",
    "classes = ['A', 'B', 'C', 'X', 'Y']"
   ]
  },
  {
   "cell_type": "markdown",
   "id": "34f04bf2",
   "metadata": {},
   "source": [
    "#### Определение признаков"
   ]
  },
  {
   "cell_type": "code",
   "execution_count": 7,
   "id": "3e57d3db",
   "metadata": {},
   "outputs": [
    {
     "name": "stdout",
     "output_type": "stream",
     "text": [
      "<class 'pandas.core.frame.DataFrame'>\n",
      "RangeIndex: 200 entries, 0 to 199\n",
      "Data columns (total 6 columns):\n",
      " #   Column       Non-Null Count  Dtype  \n",
      "---  ------       --------------  -----  \n",
      " 0   Age          200 non-null    int64  \n",
      " 1   Sex          200 non-null    object \n",
      " 2   BP           200 non-null    object \n",
      " 3   Cholesterol  200 non-null    object \n",
      " 4   Na_to_K      200 non-null    float64\n",
      " 5   Drug         200 non-null    object \n",
      "dtypes: float64(1), int64(1), object(4)\n",
      "memory usage: 9.5+ KB\n"
     ]
    }
   ],
   "source": [
    "data.info()"
   ]
  },
  {
   "cell_type": "markdown",
   "id": "3f2f26dd",
   "metadata": {},
   "source": [
    "**Начнем с определений каждого признака:**\n",
    "- `Age` - возраст;\n",
    "- `Sex` - пол;\n",
    "- `BP` (Blood Pressure Level) - уровень артериального давления;\n",
    "- `Cholesterol` - уровень холестерина;\n",
    "- `Na_to_K` - отношение натрия к калию в организме;\n",
    "- `Drug` - тип медикамента."
   ]
  },
  {
   "cell_type": "code",
   "execution_count": 8,
   "id": "2999ffc3",
   "metadata": {},
   "outputs": [
    {
     "data": {
      "text/plain": [
       "Age            0\n",
       "Sex            0\n",
       "BP             0\n",
       "Cholesterol    0\n",
       "Na_to_K        0\n",
       "Drug           0\n",
       "dtype: int64"
      ]
     },
     "execution_count": 8,
     "metadata": {},
     "output_type": "execute_result"
    }
   ],
   "source": [
    "data.isnull().sum()"
   ]
  },
  {
   "cell_type": "markdown",
   "id": "a57352af",
   "metadata": {},
   "source": [
    "#### Основные статистики"
   ]
  },
  {
   "cell_type": "code",
   "execution_count": 9,
   "id": "290464b2",
   "metadata": {},
   "outputs": [
    {
     "data": {
      "text/html": [
       "<div>\n",
       "<style scoped>\n",
       "    .dataframe tbody tr th:only-of-type {\n",
       "        vertical-align: middle;\n",
       "    }\n",
       "\n",
       "    .dataframe tbody tr th {\n",
       "        vertical-align: top;\n",
       "    }\n",
       "\n",
       "    .dataframe thead th {\n",
       "        text-align: right;\n",
       "    }\n",
       "</style>\n",
       "<table border=\"1\" class=\"dataframe\">\n",
       "  <thead>\n",
       "    <tr style=\"text-align: right;\">\n",
       "      <th></th>\n",
       "      <th>Age</th>\n",
       "      <th>Na_to_K</th>\n",
       "    </tr>\n",
       "  </thead>\n",
       "  <tbody>\n",
       "    <tr>\n",
       "      <th>count</th>\n",
       "      <td>200.000000</td>\n",
       "      <td>200.000000</td>\n",
       "    </tr>\n",
       "    <tr>\n",
       "      <th>mean</th>\n",
       "      <td>44.315000</td>\n",
       "      <td>16.084485</td>\n",
       "    </tr>\n",
       "    <tr>\n",
       "      <th>std</th>\n",
       "      <td>16.544315</td>\n",
       "      <td>7.223956</td>\n",
       "    </tr>\n",
       "    <tr>\n",
       "      <th>min</th>\n",
       "      <td>15.000000</td>\n",
       "      <td>6.269000</td>\n",
       "    </tr>\n",
       "    <tr>\n",
       "      <th>25%</th>\n",
       "      <td>31.000000</td>\n",
       "      <td>10.445500</td>\n",
       "    </tr>\n",
       "    <tr>\n",
       "      <th>50%</th>\n",
       "      <td>45.000000</td>\n",
       "      <td>13.936500</td>\n",
       "    </tr>\n",
       "    <tr>\n",
       "      <th>75%</th>\n",
       "      <td>58.000000</td>\n",
       "      <td>19.380000</td>\n",
       "    </tr>\n",
       "    <tr>\n",
       "      <th>max</th>\n",
       "      <td>74.000000</td>\n",
       "      <td>38.247000</td>\n",
       "    </tr>\n",
       "  </tbody>\n",
       "</table>\n",
       "</div>"
      ],
      "text/plain": [
       "              Age     Na_to_K\n",
       "count  200.000000  200.000000\n",
       "mean    44.315000   16.084485\n",
       "std     16.544315    7.223956\n",
       "min     15.000000    6.269000\n",
       "25%     31.000000   10.445500\n",
       "50%     45.000000   13.936500\n",
       "75%     58.000000   19.380000\n",
       "max     74.000000   38.247000"
      ]
     },
     "execution_count": 9,
     "metadata": {},
     "output_type": "execute_result"
    }
   ],
   "source": [
    "data.describe()"
   ]
  },
  {
   "cell_type": "markdown",
   "id": "b40112c4",
   "metadata": {},
   "source": [
    "#### Значения категориальных признаков"
   ]
  },
  {
   "cell_type": "code",
   "execution_count": 10,
   "id": "19a304bf",
   "metadata": {},
   "outputs": [
    {
     "data": {
      "image/png": "[encoded data removed]",
      "text/plain": [
       "<Figure size 432x288 with 1 Axes>"
      ]
     },
     "metadata": {
      "needs_background": "light"
     },
     "output_type": "display_data"
    }
   ],
   "source": [
    "sns.countplot(x = data['Sex'])\n",
    "plt.title('Sex Proportions')\n",
    "plt.show()"
   ]
  },
  {
   "cell_type": "code",
   "execution_count": 11,
   "id": "8c32e549",
   "metadata": {},
   "outputs": [
    {
     "data": {
      "image/png": "[encoded data removed]",
      "text/plain": [
       "<Figure size 432x288 with 1 Axes>"
      ]
     },
     "metadata": {
      "needs_background": "light"
     },
     "output_type": "display_data"
    }
   ],
   "source": [
    "sns.countplot(x = data['Cholesterol'])\n",
    "plt.title('Cholesterol Levels')\n",
    "plt.show()"
   ]
  },
  {
   "cell_type": "code",
   "execution_count": 12,
   "id": "b7ee829b",
   "metadata": {
    "scrolled": true
   },
   "outputs": [
    {
     "data": {
      "image/png": "[encoded data removed]",
      "text/plain": [
       "<Figure size 432x288 with 1 Axes>"
      ]
     },
     "metadata": {
      "needs_background": "light"
     },
     "output_type": "display_data"
    }
   ],
   "source": [
    "sns.countplot(x = data['BP'])\n",
    "plt.title('Blood Pressure Levels')\n",
    "plt.show()"
   ]
  },
  {
   "cell_type": "markdown",
   "id": "80f6aa88",
   "metadata": {},
   "source": [
    "#### Распределения вещественных признаков"
   ]
  },
  {
   "cell_type": "code",
   "execution_count": 13,
   "id": "73c6e52f",
   "metadata": {},
   "outputs": [
    {
     "data": {
      "image/png": "[encoded data removed]",
      "text/plain": [
       "<Figure size 432x288 with 1 Axes>"
      ]
     },
     "metadata": {
      "needs_background": "light"
     },
     "output_type": "display_data"
    }
   ],
   "source": [
    "sns.kdeplot(x = data['Na_to_K'])\n",
    "plt.title('Na_to_K Distribution')\n",
    "plt.show()"
   ]
  },
  {
   "cell_type": "code",
   "execution_count": 14,
   "id": "29947f53",
   "metadata": {},
   "outputs": [
    {
     "data": {
      "image/png": "[encoded data removed]",
      "text/plain": [
       "<Figure size 432x288 with 1 Axes>"
      ]
     },
     "metadata": {
      "needs_background": "light"
     },
     "output_type": "display_data"
    }
   ],
   "source": [
    "sns.kdeplot(x = data['Age'])\n",
    "plt.title('Age Distribution')\n",
    "plt.show()"
   ]
  },
  {
   "cell_type": "markdown",
   "id": "049bc37c",
   "metadata": {},
   "source": [
    "#### Целевая переменная"
   ]
  },
  {
   "cell_type": "code",
   "execution_count": 15,
   "id": "ad8b5a60",
   "metadata": {
    "scrolled": false
   },
   "outputs": [
    {
     "data": {
      "image/png": "[encoded data removed]",
      "text/plain": [
       "<Figure size 432x288 with 1 Axes>"
      ]
     },
     "metadata": {
      "needs_background": "light"
     },
     "output_type": "display_data"
    }
   ],
   "source": [
    "sns.countplot(x = data['Drug'])\n",
    "plt.title('Drug Type Proportion')\n",
    "plt.show()"
   ]
  },
  {
   "cell_type": "markdown",
   "id": "243998c3",
   "metadata": {},
   "source": [
    "**Выводы:**\n",
    "- В данных нет пропусков;\n",
    "- Распределение признака `Na_to_K` не похоже на нормальное. Медиана меньше среднего, о чем свидетельствует смещение кривой влево.\n",
    "- Распределение возраста похоже на нормальное;\n",
    "- Заметно преобладание класса Y, всего классов 5;\n",
    "- Холестерин имеет два уникальных значения -- High и Normal, соотношение примерно одинаковое;\n",
    "- Уровень артериального давления имеет 3 уникальных значения, наиболее часто встречающийся -- High;\n",
    "- Признак `Sex` имеет два уникальных значения, соотношение мужчин (M) и женщин (F) примерно одинаковое."
   ]
  },
  {
   "cell_type": "markdown",
   "id": "4a62c8bf",
   "metadata": {},
   "source": [
    "### Выявление зависимостей"
   ]
  },
  {
   "cell_type": "code",
   "execution_count": 16,
   "id": "992f4c48",
   "metadata": {},
   "outputs": [
    {
     "data": {
      "text/plain": [
       "['Sex', 'BP', 'Cholesterol', 'Drug']"
      ]
     },
     "execution_count": 16,
     "metadata": {},
     "output_type": "execute_result"
    }
   ],
   "source": [
    "cat_features = data.select_dtypes('object').columns.tolist()\n",
    "cat_features"
   ]
  },
  {
   "cell_type": "code",
   "execution_count": 17,
   "id": "b622b907",
   "metadata": {},
   "outputs": [],
   "source": [
    "from sklearn.preprocessing import LabelEncoder\n",
    "encoder = LabelEncoder()\n",
    "\n",
    "copy = data.copy()\n",
    "for f in cat_features:\n",
    "    copy[f] = encoder.fit_transform(copy[f])\n",
    "\n",
    "correlations = copy.corr()"
   ]
  },
  {
   "cell_type": "markdown",
   "id": "7fa595d1",
   "metadata": {},
   "source": [
    "#### Матрица корреляций"
   ]
  },
  {
   "cell_type": "code",
   "execution_count": 18,
   "id": "c24257cc",
   "metadata": {
    "scrolled": false
   },
   "outputs": [
    {
     "data": {
      "image/png": "[encoded data removed]",
      "text/plain": [
       "<Figure size 720x576 with 2 Axes>"
      ]
     },
     "metadata": {
      "needs_background": "light"
     },
     "output_type": "display_data"
    }
   ],
   "source": [
    "plt.figure(figsize = (10, 8))\n",
    "\n",
    "sns.heatmap(correlations,  annot = True, cmap = 'crest_r')\n",
    "plt.title('Correlations Heatmap')\n",
    "plt.show()"
   ]
  },
  {
   "cell_type": "markdown",
   "id": "9524969a",
   "metadata": {},
   "source": [
    "Наблюдается сильная положительная корреляция между целевой переменной и признаком `Na_to_K`. Следовательно, чем выше соотношение натрия к калию в организме, тем больше (лексикографически) тип медикамента."
   ]
  },
  {
   "cell_type": "markdown",
   "id": "2bab1400",
   "metadata": {},
   "source": [
    "#### Зависимости между категориальными признаками"
   ]
  },
  {
   "cell_type": "code",
   "execution_count": 19,
   "id": "6c4d5e28",
   "metadata": {},
   "outputs": [
    {
     "data": {
      "image/png": "[encoded data removed]",
      "text/plain": [
       "<Figure size 864x288 with 2 Axes>"
      ]
     },
     "metadata": {
      "needs_background": "light"
     },
     "output_type": "display_data"
    }
   ],
   "source": [
    "fig, axes = plt.subplots(1, 2, figsize = (12, 4))\n",
    "sns.countplot(x = data['Sex'], hue = data['Cholesterol'], ax = axes[0])\n",
    "sns.countplot(x = data['Sex'], hue = data['BP'], ax = axes[1])\n",
    "axes[0].set_title('Cholesterol-Sex Correlation')\n",
    "axes[1].set_title('BP-Sex Correlation')\n",
    "plt.show()"
   ]
  },
  {
   "cell_type": "markdown",
   "id": "4267af70",
   "metadata": {},
   "source": [
    "Пол пациентов не связан с уровнем холестерина или артериального давления."
   ]
  },
  {
   "cell_type": "markdown",
   "id": "995a7c33",
   "metadata": {},
   "source": [
    "#### Проверка зависимостей между категориальными признаками и целевой переменной"
   ]
  },
  {
   "cell_type": "code",
   "execution_count": 20,
   "id": "6d1eb0b9",
   "metadata": {},
   "outputs": [
    {
     "data": {
      "image/png": "[encoded data removed]",
      "text/plain": [
       "<Figure size 864x288 with 2 Axes>"
      ]
     },
     "metadata": {
      "needs_background": "light"
     },
     "output_type": "display_data"
    }
   ],
   "source": [
    "fig, axes = plt.subplots(1, 2, figsize = (12, 4))\n",
    "sns.countplot(x = data['Drug'], hue = data['Cholesterol'], ax = axes[0])\n",
    "sns.countplot(x = data['Drug'], hue = data['BP'], ax = axes[1])\n",
    "axes[0].set_title('Cholesterol-DrugType Correlation')\n",
    "axes[1].set_title('BP-DrugType Correlation')\n",
    "plt.show()"
   ]
  },
  {
   "cell_type": "markdown",
   "id": "e74db5bd",
   "metadata": {},
   "source": [
    "Сразу можно предположить, что медикамент типа C принимают пациенты с высоким уровнем холестерина и низким артериальным давлением. Медикаменты типа A и B относятся к пациентам с высоким уровнем артериального давления."
   ]
  },
  {
   "cell_type": "markdown",
   "id": "cd48542b",
   "metadata": {},
   "source": [
    "#### Проверка зависимостей между вещественными признаками и целевой переменной"
   ]
  },
  {
   "cell_type": "code",
   "execution_count": 21,
   "id": "22c8f5a8",
   "metadata": {},
   "outputs": [
    {
     "data": {
      "text/html": [
       "<div>\n",
       "<style scoped>\n",
       "    .dataframe tbody tr th:only-of-type {\n",
       "        vertical-align: middle;\n",
       "    }\n",
       "\n",
       "    .dataframe tbody tr th {\n",
       "        vertical-align: top;\n",
       "    }\n",
       "\n",
       "    .dataframe thead th {\n",
       "        text-align: right;\n",
       "    }\n",
       "</style>\n",
       "<table border=\"1\" class=\"dataframe\">\n",
       "  <thead>\n",
       "    <tr style=\"text-align: right;\">\n",
       "      <th></th>\n",
       "      <th>Age</th>\n",
       "      <th>Na_to_K</th>\n",
       "    </tr>\n",
       "    <tr>\n",
       "      <th>Drug</th>\n",
       "      <th></th>\n",
       "      <th></th>\n",
       "    </tr>\n",
       "  </thead>\n",
       "  <tbody>\n",
       "    <tr>\n",
       "      <th>A</th>\n",
       "      <td>36.0</td>\n",
       "      <td>11.2270</td>\n",
       "    </tr>\n",
       "    <tr>\n",
       "      <th>B</th>\n",
       "      <td>60.0</td>\n",
       "      <td>11.1745</td>\n",
       "    </tr>\n",
       "    <tr>\n",
       "      <th>C</th>\n",
       "      <td>47.0</td>\n",
       "      <td>10.4905</td>\n",
       "    </tr>\n",
       "    <tr>\n",
       "      <th>X</th>\n",
       "      <td>45.0</td>\n",
       "      <td>10.5240</td>\n",
       "    </tr>\n",
       "    <tr>\n",
       "      <th>Y</th>\n",
       "      <td>42.0</td>\n",
       "      <td>20.4890</td>\n",
       "    </tr>\n",
       "  </tbody>\n",
       "</table>\n",
       "</div>"
      ],
      "text/plain": [
       "       Age  Na_to_K\n",
       "Drug               \n",
       "A     36.0  11.2270\n",
       "B     60.0  11.1745\n",
       "C     47.0  10.4905\n",
       "X     45.0  10.5240\n",
       "Y     42.0  20.4890"
      ]
     },
     "execution_count": 21,
     "metadata": {},
     "output_type": "execute_result"
    }
   ],
   "source": [
    "data.groupby('Drug').median()"
   ]
  },
  {
   "cell_type": "markdown",
   "id": "7421308f",
   "metadata": {},
   "source": [
    "Высокое отношение натрия к калию у пациента относится к типу Y (что и было видно из матрицы корреляций), а большой возраст -- к типу B. Построим соответствующие графики."
   ]
  },
  {
   "cell_type": "code",
   "execution_count": 22,
   "id": "36168ab0",
   "metadata": {
    "scrolled": false
   },
   "outputs": [
    {
     "data": {
      "image/png": "[encoded data removed]",
      "text/plain": [
       "<Figure size 576x576 with 1 Axes>"
      ]
     },
     "metadata": {
      "needs_background": "light"
     },
     "output_type": "display_data"
    }
   ],
   "source": [
    "plt.figure(figsize = (8, 8))\n",
    "sns.boxplot(x = data['Drug'], y = data['Age'])\n",
    "plt.title('Age-Drug BoxPlot')\n",
    "plt.show()"
   ]
  },
  {
   "cell_type": "code",
   "execution_count": 23,
   "id": "b0dc6fe6",
   "metadata": {},
   "outputs": [
    {
     "data": {
      "image/png": "[encoded data removed]",
      "text/plain": [
       "<Figure size 576x576 with 1 Axes>"
      ]
     },
     "metadata": {
      "needs_background": "light"
     },
     "output_type": "display_data"
    }
   ],
   "source": [
    "plt.figure(figsize = (8, 8))\n",
    "sns.boxplot(x = data['Drug'], y = data['Na_to_K'])\n",
    "plt.title('NaToK-Drug BoxPlot')\n",
    "plt.show()"
   ]
  },
  {
   "cell_type": "markdown",
   "id": "9cc4de30",
   "metadata": {},
   "source": [
    "#### Возможные выбросы"
   ]
  },
  {
   "cell_type": "code",
   "execution_count": 24,
   "id": "e11fabf8",
   "metadata": {
    "scrolled": false
   },
   "outputs": [
    {
     "data": {
      "image/png": "[encoded data removed]",
      "text/plain": [
       "<Figure size 576x576 with 1 Axes>"
      ]
     },
     "metadata": {
      "needs_background": "light"
     },
     "output_type": "display_data"
    }
   ],
   "source": [
    "plt.figure(figsize = (8, 8))\n",
    "sns.boxplot(data = data['Na_to_K'])\n",
    "plt.title('Na_to_K BoxPlot')\n",
    "plt.show()"
   ]
  },
  {
   "cell_type": "code",
   "execution_count": 25,
   "id": "dd18af2b",
   "metadata": {
    "scrolled": false
   },
   "outputs": [
    {
     "data": {
      "image/png": "[encoded data removed]",
      "text/plain": [
       "<Figure size 576x576 with 1 Axes>"
      ]
     },
     "metadata": {
      "needs_background": "light"
     },
     "output_type": "display_data"
    }
   ],
   "source": [
    "plt.figure(figsize = (8, 8))\n",
    "sns.boxplot(data = data['Age'])\n",
    "plt.title('Age BoxPlot')\n",
    "plt.show()"
   ]
  },
  {
   "cell_type": "code",
   "execution_count": 26,
   "id": "af623475",
   "metadata": {},
   "outputs": [
    {
     "data": {
      "text/plain": [
       "Age        72.03000\n",
       "Na_to_K    33.48768\n",
       "Name: 0.97, dtype: float64"
      ]
     },
     "execution_count": 26,
     "metadata": {},
     "output_type": "execute_result"
    }
   ],
   "source": [
    "data[['Age', 'Na_to_K']].quantile(0.97)"
   ]
  },
  {
   "cell_type": "code",
   "execution_count": 27,
   "id": "a192eb88",
   "metadata": {
    "scrolled": true
   },
   "outputs": [
    {
     "data": {
      "text/plain": [
       "Age        16.97000\n",
       "Na_to_K     7.33874\n",
       "Name: 0.03, dtype: float64"
      ]
     },
     "execution_count": 27,
     "metadata": {},
     "output_type": "execute_result"
    }
   ],
   "source": [
    "data[['Age', 'Na_to_K']].quantile(0.03)"
   ]
  },
  {
   "cell_type": "markdown",
   "id": "93c0f105",
   "metadata": {},
   "source": [
    "**Выводы:** Предположительно, значения `Na_to_K` >= 32 -- выбросы;"
   ]
  },
  {
   "cell_type": "markdown",
   "id": "4f9d3ad7",
   "metadata": {},
   "source": [
    "### Основная гипотеза\n",
    "- Медикамент типа Y принимают пациенты с отношением натрия к калию >= 15;\n",
    "- Медикамент типа B принимают пациенты старше 50 лет с высоким уровнем артериального давления и отношением натрия к калию < 15;\n",
    "- Медикамент типа A принимают пациенты младше 50 лет с высоким уровнем артериального давления и отношением натрия к калию < 15;\n",
    "- Медикамент типа C принимают пациенты с высоким уровнем холестерина, низким артериальным давлением и отношением натрия к калию < 15;\n",
    "- В остальных случаях пациент принимает медикамент типа Х."
   ]
  },
  {
   "cell_type": "markdown",
   "id": "cd71a2e0",
   "metadata": {},
   "source": [
    "### Проверка гипотезы"
   ]
  },
  {
   "cell_type": "markdown",
   "id": "15d1b86e",
   "metadata": {},
   "source": [
    "Установим уровень значимости в 0.05. Найдем $p$-значение для проверки значимости."
   ]
  },
  {
   "cell_type": "markdown",
   "id": "8cd9a969",
   "metadata": {},
   "source": [
    "$$\\chi^2 = \\sum \\frac{(o - e)^2}{e}$$"
   ]
  },
  {
   "cell_type": "code",
   "execution_count": 28,
   "id": "6734dcca",
   "metadata": {},
   "outputs": [],
   "source": [
    "n = 60\n",
    "sample = data.sample(n, random_state=42)"
   ]
  },
  {
   "cell_type": "code",
   "execution_count": 29,
   "id": "28999373",
   "metadata": {},
   "outputs": [
    {
     "name": "stdout",
     "output_type": "stream",
     "text": [
      "o = 26\n",
      "e = 26\n"
     ]
    }
   ],
   "source": [
    "subsample = sample[data['Drug'] == 'Y']\n",
    "print('o =', subsample[subsample['Na_to_K'] >= 15].shape[0])\n",
    "print('e =', subsample.shape[0])"
   ]
  },
  {
   "cell_type": "code",
   "execution_count": 30,
   "id": "77fafdab",
   "metadata": {},
   "outputs": [
    {
     "name": "stdout",
     "output_type": "stream",
     "text": [
      "o = 3\n",
      "e = 3\n"
     ]
    }
   ],
   "source": [
    "subsample = sample[sample['Drug'] == 'B']\n",
    "print('o =', subsample[(subsample['Age'] >= 50) & \n",
    "                       (subsample['BP'] == 'HIGH') & \n",
    "                       (subsample['Na_to_K'] < 15)].shape[0])\n",
    "print('e =', subsample.shape[0])"
   ]
  },
  {
   "cell_type": "code",
   "execution_count": 31,
   "id": "594e9ffa",
   "metadata": {},
   "outputs": [
    {
     "name": "stdout",
     "output_type": "stream",
     "text": [
      "o = 7\n",
      "e = 7\n"
     ]
    }
   ],
   "source": [
    "subsample = sample[sample['Drug'] == 'A']\n",
    "print('o =', subsample[(subsample['Age'] < 50) & \n",
    "                       (subsample['BP'] == 'HIGH') & \n",
    "                       (subsample['Na_to_K'] < 15)].shape[0])\n",
    "print('e =', subsample.shape[0])"
   ]
  },
  {
   "cell_type": "code",
   "execution_count": 32,
   "id": "e765cb53",
   "metadata": {},
   "outputs": [
    {
     "name": "stdout",
     "output_type": "stream",
     "text": [
      "o = 6\n",
      "e = 6\n"
     ]
    }
   ],
   "source": [
    "n = 10\n",
    "subsample = sample[sample['Drug'] == 'C']\n",
    "print('o =', subsample[(subsample['Cholesterol'] == 'HIGH') & \n",
    "                       (subsample['BP'] == 'LOW') & \n",
    "                       (subsample['Na_to_K'] < 15)].shape[0])\n",
    "print('e =', subsample.shape[0])"
   ]
  },
  {
   "cell_type": "code",
   "execution_count": 33,
   "id": "da796b05",
   "metadata": {},
   "outputs": [
    {
     "name": "stdout",
     "output_type": "stream",
     "text": [
      "o = 18\n",
      "e = 18\n"
     ]
    }
   ],
   "source": [
    "subsample = sample[sample['Drug'] == 'X']\n",
    "print('o =', subsample.shape[0])\n",
    "print('e =', 60 - 26 - 3 - 7 - 6)"
   ]
  },
  {
   "cell_type": "markdown",
   "id": "5736ed0a",
   "metadata": {},
   "source": [
    "![Chi Squared Distribution](img/ChiSquaredDistribution.png)"
   ]
  },
  {
   "cell_type": "markdown",
   "id": "58da463c",
   "metadata": {},
   "source": [
    "Имеем $\\chi^2 = 0 + 0 + 0 + 0 + 0 = 0$ и одну степень свободы. Следовательно, $p_\\rm{value} = 0.95 > 0.05$, значит гипотезу невозможно отклонить."
   ]
  },
  {
   "cell_type": "markdown",
   "id": "55ad7df9",
   "metadata": {},
   "source": [
    "## Подготовка данных"
   ]
  },
  {
   "cell_type": "code",
   "execution_count": 34,
   "id": "52758bd2",
   "metadata": {},
   "outputs": [
    {
     "data": {
      "text/html": [
       "<div>\n",
       "<style scoped>\n",
       "    .dataframe tbody tr th:only-of-type {\n",
       "        vertical-align: middle;\n",
       "    }\n",
       "\n",
       "    .dataframe tbody tr th {\n",
       "        vertical-align: top;\n",
       "    }\n",
       "\n",
       "    .dataframe thead th {\n",
       "        text-align: right;\n",
       "    }\n",
       "</style>\n",
       "<table border=\"1\" class=\"dataframe\">\n",
       "  <thead>\n",
       "    <tr style=\"text-align: right;\">\n",
       "      <th></th>\n",
       "      <th>Age</th>\n",
       "      <th>Sex</th>\n",
       "      <th>BP</th>\n",
       "      <th>Cholesterol</th>\n",
       "      <th>Na_to_K</th>\n",
       "      <th>Drug</th>\n",
       "    </tr>\n",
       "  </thead>\n",
       "  <tbody>\n",
       "    <tr>\n",
       "      <th>0</th>\n",
       "      <td>23</td>\n",
       "      <td>F</td>\n",
       "      <td>HIGH</td>\n",
       "      <td>HIGH</td>\n",
       "      <td>25.355</td>\n",
       "      <td>Y</td>\n",
       "    </tr>\n",
       "    <tr>\n",
       "      <th>1</th>\n",
       "      <td>47</td>\n",
       "      <td>M</td>\n",
       "      <td>LOW</td>\n",
       "      <td>HIGH</td>\n",
       "      <td>13.093</td>\n",
       "      <td>C</td>\n",
       "    </tr>\n",
       "    <tr>\n",
       "      <th>2</th>\n",
       "      <td>47</td>\n",
       "      <td>M</td>\n",
       "      <td>LOW</td>\n",
       "      <td>HIGH</td>\n",
       "      <td>10.114</td>\n",
       "      <td>C</td>\n",
       "    </tr>\n",
       "    <tr>\n",
       "      <th>3</th>\n",
       "      <td>28</td>\n",
       "      <td>F</td>\n",
       "      <td>NORMAL</td>\n",
       "      <td>HIGH</td>\n",
       "      <td>7.798</td>\n",
       "      <td>X</td>\n",
       "    </tr>\n",
       "    <tr>\n",
       "      <th>4</th>\n",
       "      <td>61</td>\n",
       "      <td>F</td>\n",
       "      <td>LOW</td>\n",
       "      <td>HIGH</td>\n",
       "      <td>18.043</td>\n",
       "      <td>Y</td>\n",
       "    </tr>\n",
       "  </tbody>\n",
       "</table>\n",
       "</div>"
      ],
      "text/plain": [
       "   Age Sex      BP Cholesterol  Na_to_K Drug\n",
       "0   23   F    HIGH        HIGH   25.355    Y\n",
       "1   47   M     LOW        HIGH   13.093    C\n",
       "2   47   M     LOW        HIGH   10.114    C\n",
       "3   28   F  NORMAL        HIGH    7.798    X\n",
       "4   61   F     LOW        HIGH   18.043    Y"
      ]
     },
     "execution_count": 34,
     "metadata": {},
     "output_type": "execute_result"
    }
   ],
   "source": [
    "data.head()"
   ]
  },
  {
   "cell_type": "code",
   "execution_count": 35,
   "id": "451c0bdd",
   "metadata": {},
   "outputs": [],
   "source": [
    "data = data[data['Na_to_K'] <= 32]"
   ]
  },
  {
   "cell_type": "code",
   "execution_count": 36,
   "id": "30fd8991",
   "metadata": {},
   "outputs": [],
   "source": [
    "encoder = LabelEncoder()\n",
    "encoder.fit(data['Drug'])\n",
    "data['Drug'] = encoder.transform(data['Drug'])\n",
    "y = np.array(data['Drug'])\n",
    "X = data.drop(['Drug', 'Sex'], axis = 1)\n",
    "X = pd.get_dummies(X)"
   ]
  },
  {
   "cell_type": "code",
   "execution_count": 37,
   "id": "bd0a4c04",
   "metadata": {
    "scrolled": true
   },
   "outputs": [
    {
     "data": {
      "text/html": [
       "<div>\n",
       "<style scoped>\n",
       "    .dataframe tbody tr th:only-of-type {\n",
       "        vertical-align: middle;\n",
       "    }\n",
       "\n",
       "    .dataframe tbody tr th {\n",
       "        vertical-align: top;\n",
       "    }\n",
       "\n",
       "    .dataframe thead th {\n",
       "        text-align: right;\n",
       "    }\n",
       "</style>\n",
       "<table border=\"1\" class=\"dataframe\">\n",
       "  <thead>\n",
       "    <tr style=\"text-align: right;\">\n",
       "      <th></th>\n",
       "      <th>Age</th>\n",
       "      <th>Sex</th>\n",
       "      <th>BP</th>\n",
       "      <th>Cholesterol</th>\n",
       "      <th>Na_to_K</th>\n",
       "      <th>Drug</th>\n",
       "    </tr>\n",
       "  </thead>\n",
       "  <tbody>\n",
       "    <tr>\n",
       "      <th>0</th>\n",
       "      <td>23</td>\n",
       "      <td>F</td>\n",
       "      <td>HIGH</td>\n",
       "      <td>HIGH</td>\n",
       "      <td>25.355</td>\n",
       "      <td>4</td>\n",
       "    </tr>\n",
       "    <tr>\n",
       "      <th>1</th>\n",
       "      <td>47</td>\n",
       "      <td>M</td>\n",
       "      <td>LOW</td>\n",
       "      <td>HIGH</td>\n",
       "      <td>13.093</td>\n",
       "      <td>2</td>\n",
       "    </tr>\n",
       "    <tr>\n",
       "      <th>2</th>\n",
       "      <td>47</td>\n",
       "      <td>M</td>\n",
       "      <td>LOW</td>\n",
       "      <td>HIGH</td>\n",
       "      <td>10.114</td>\n",
       "      <td>2</td>\n",
       "    </tr>\n",
       "    <tr>\n",
       "      <th>3</th>\n",
       "      <td>28</td>\n",
       "      <td>F</td>\n",
       "      <td>NORMAL</td>\n",
       "      <td>HIGH</td>\n",
       "      <td>7.798</td>\n",
       "      <td>3</td>\n",
       "    </tr>\n",
       "    <tr>\n",
       "      <th>4</th>\n",
       "      <td>61</td>\n",
       "      <td>F</td>\n",
       "      <td>LOW</td>\n",
       "      <td>HIGH</td>\n",
       "      <td>18.043</td>\n",
       "      <td>4</td>\n",
       "    </tr>\n",
       "  </tbody>\n",
       "</table>\n",
       "</div>"
      ],
      "text/plain": [
       "   Age Sex      BP Cholesterol  Na_to_K  Drug\n",
       "0   23   F    HIGH        HIGH   25.355     4\n",
       "1   47   M     LOW        HIGH   13.093     2\n",
       "2   47   M     LOW        HIGH   10.114     2\n",
       "3   28   F  NORMAL        HIGH    7.798     3\n",
       "4   61   F     LOW        HIGH   18.043     4"
      ]
     },
     "execution_count": 37,
     "metadata": {},
     "output_type": "execute_result"
    }
   ],
   "source": [
    "data.head()"
   ]
  },
  {
   "cell_type": "code",
   "execution_count": 38,
   "id": "641db45e",
   "metadata": {},
   "outputs": [
    {
     "data": {
      "text/html": [
       "<div>\n",
       "<style scoped>\n",
       "    .dataframe tbody tr th:only-of-type {\n",
       "        vertical-align: middle;\n",
       "    }\n",
       "\n",
       "    .dataframe tbody tr th {\n",
       "        vertical-align: top;\n",
       "    }\n",
       "\n",
       "    .dataframe thead th {\n",
       "        text-align: right;\n",
       "    }\n",
       "</style>\n",
       "<table border=\"1\" class=\"dataframe\">\n",
       "  <thead>\n",
       "    <tr style=\"text-align: right;\">\n",
       "      <th></th>\n",
       "      <th>Age</th>\n",
       "      <th>Na_to_K</th>\n",
       "      <th>BP_HIGH</th>\n",
       "      <th>BP_LOW</th>\n",
       "      <th>BP_NORMAL</th>\n",
       "      <th>Cholesterol_HIGH</th>\n",
       "      <th>Cholesterol_NORMAL</th>\n",
       "    </tr>\n",
       "  </thead>\n",
       "  <tbody>\n",
       "    <tr>\n",
       "      <th>0</th>\n",
       "      <td>23</td>\n",
       "      <td>25.355</td>\n",
       "      <td>1</td>\n",
       "      <td>0</td>\n",
       "      <td>0</td>\n",
       "      <td>1</td>\n",
       "      <td>0</td>\n",
       "    </tr>\n",
       "    <tr>\n",
       "      <th>1</th>\n",
       "      <td>47</td>\n",
       "      <td>13.093</td>\n",
       "      <td>0</td>\n",
       "      <td>1</td>\n",
       "      <td>0</td>\n",
       "      <td>1</td>\n",
       "      <td>0</td>\n",
       "    </tr>\n",
       "    <tr>\n",
       "      <th>2</th>\n",
       "      <td>47</td>\n",
       "      <td>10.114</td>\n",
       "      <td>0</td>\n",
       "      <td>1</td>\n",
       "      <td>0</td>\n",
       "      <td>1</td>\n",
       "      <td>0</td>\n",
       "    </tr>\n",
       "    <tr>\n",
       "      <th>3</th>\n",
       "      <td>28</td>\n",
       "      <td>7.798</td>\n",
       "      <td>0</td>\n",
       "      <td>0</td>\n",
       "      <td>1</td>\n",
       "      <td>1</td>\n",
       "      <td>0</td>\n",
       "    </tr>\n",
       "    <tr>\n",
       "      <th>4</th>\n",
       "      <td>61</td>\n",
       "      <td>18.043</td>\n",
       "      <td>0</td>\n",
       "      <td>1</td>\n",
       "      <td>0</td>\n",
       "      <td>1</td>\n",
       "      <td>0</td>\n",
       "    </tr>\n",
       "  </tbody>\n",
       "</table>\n",
       "</div>"
      ],
      "text/plain": [
       "   Age  Na_to_K  BP_HIGH  BP_LOW  BP_NORMAL  Cholesterol_HIGH  \\\n",
       "0   23   25.355        1       0          0                 1   \n",
       "1   47   13.093        0       1          0                 1   \n",
       "2   47   10.114        0       1          0                 1   \n",
       "3   28    7.798        0       0          1                 1   \n",
       "4   61   18.043        0       1          0                 1   \n",
       "\n",
       "   Cholesterol_NORMAL  \n",
       "0                   0  \n",
       "1                   0  \n",
       "2                   0  \n",
       "3                   0  \n",
       "4                   0  "
      ]
     },
     "execution_count": 38,
     "metadata": {},
     "output_type": "execute_result"
    }
   ],
   "source": [
    "X.head()"
   ]
  },
  {
   "cell_type": "code",
   "execution_count": 39,
   "id": "f725a21b",
   "metadata": {},
   "outputs": [
    {
     "data": {
      "text/plain": [
       "['Age',\n",
       " 'Na_to_K',\n",
       " 'BP_HIGH',\n",
       " 'BP_LOW',\n",
       " 'BP_NORMAL',\n",
       " 'Cholesterol_HIGH',\n",
       " 'Cholesterol_NORMAL']"
      ]
     },
     "execution_count": 39,
     "metadata": {},
     "output_type": "execute_result"
    }
   ],
   "source": [
    "features = X.columns.tolist()\n",
    "features"
   ]
  },
  {
   "cell_type": "code",
   "execution_count": 40,
   "id": "c1b71c18",
   "metadata": {},
   "outputs": [],
   "source": [
    "from sklearn.model_selection import train_test_split, GridSearchCV\n",
    "X_train, X_test, y_train, y_test = train_test_split(X, y, train_size = 0.66, random_state = 42)"
   ]
  },
  {
   "cell_type": "markdown",
   "id": "1e9729f8",
   "metadata": {},
   "source": [
    "## Моделирование"
   ]
  },
  {
   "cell_type": "markdown",
   "id": "3160ead7",
   "metadata": {},
   "source": [
    "Для оценки качества предсказаний будем использовать макро-усреднение f1-меры, т.к. нам не очень важно преобладание одного класса над другими, и в то же время одинаково важна и точность, и полнота."
   ]
  },
  {
   "cell_type": "markdown",
   "id": "ace7d14f",
   "metadata": {},
   "source": [
    "### KNN"
   ]
  },
  {
   "cell_type": "markdown",
   "id": "2ca839df",
   "metadata": {},
   "source": [
    "#### Предсказание"
   ]
  },
  {
   "cell_type": "code",
   "execution_count": 41,
   "id": "3476f541",
   "metadata": {},
   "outputs": [],
   "source": [
    "from sklearn.preprocessing import StandardScaler, MinMaxScaler\n",
    "scaler = StandardScaler()\n",
    "scaler.fit(X)\n",
    "X_train_scaled = scaler.transform(X_train)\n",
    "X_test_scaled = scaler.transform(X_test)"
   ]
  },
  {
   "cell_type": "code",
   "execution_count": 42,
   "id": "33ff446b",
   "metadata": {},
   "outputs": [
    {
     "name": "stdout",
     "output_type": "stream",
     "text": [
      "              precision    recall  f1-score   support\n",
      "\n",
      "           0       1.00      0.57      0.73        14\n",
      "           1       0.45      1.00      0.62         5\n",
      "           2       1.00      1.00      1.00         2\n",
      "           3       0.96      1.00      0.98        22\n",
      "           4       0.86      0.83      0.84        23\n",
      "\n",
      "    accuracy                           0.85        66\n",
      "   macro avg       0.85      0.88      0.83        66\n",
      "weighted avg       0.90      0.85      0.85        66\n",
      "\n"
     ]
    }
   ],
   "source": [
    "from sklearn.neighbors import KNeighborsClassifier\n",
    "from sklearn.metrics import classification_report, accuracy_score\n",
    "\n",
    "simple_knn = KNeighborsClassifier()\n",
    "simple_knn.fit(X_train_scaled, y_train)\n",
    "y_pred = simple_knn.predict(X_test_scaled)\n",
    "\n",
    "print(classification_report(y_test, y_pred))"
   ]
  },
  {
   "cell_type": "code",
   "execution_count": 43,
   "id": "dba5a376",
   "metadata": {},
   "outputs": [
    {
     "data": {
      "image/png": "[encoded data removed]",
      "text/plain": [
       "<Figure size 720x576 with 2 Axes>"
      ]
     },
     "metadata": {
      "needs_background": "light"
     },
     "output_type": "display_data"
    }
   ],
   "source": [
    "from sklearn.metrics import confusion_matrix\n",
    "\n",
    "matrix = confusion_matrix(y_test, y_pred)\n",
    "plt.figure(figsize = (10, 8))\n",
    "sns.heatmap(matrix,  annot = True, cmap = 'crest_r')\n",
    "plt.title('Confusion Matrix')\n",
    "plt.show()"
   ]
  },
  {
   "cell_type": "markdown",
   "id": "b0c8fc71",
   "metadata": {},
   "source": [
    "#### Подбор гиперпараметров"
   ]
  },
  {
   "cell_type": "code",
   "execution_count": 44,
   "id": "a241b325",
   "metadata": {},
   "outputs": [
    {
     "name": "stdout",
     "output_type": "stream",
     "text": [
      "Best parameters: {'metric': 'cosine', 'n_neighbors': 1}\n"
     ]
    }
   ],
   "source": [
    "knn = KNeighborsClassifier()\n",
    "\n",
    "parameters = {\n",
    "    'n_neighbors': list(range(1, 30)),\n",
    "    'metric': ['minkowski', 'euclidean', 'cosine']\n",
    "}\n",
    "\n",
    "grid_search = GridSearchCV(knn, parameters, cv = 5, n_jobs = -1)\n",
    "grid_search.fit(X_train_scaled, y_train)\n",
    "print('Best parameters:', grid_search.best_params_)"
   ]
  },
  {
   "cell_type": "code",
   "execution_count": 45,
   "id": "9df836d7",
   "metadata": {
    "scrolled": false
   },
   "outputs": [
    {
     "data": {
      "image/png": "[encoded data removed]",
      "text/plain": [
       "<Figure size 864x288 with 2 Axes>"
      ]
     },
     "metadata": {
      "needs_background": "light"
     },
     "output_type": "display_data"
    }
   ],
   "source": [
    "scores = grid_search.cv_results_['mean_test_score']\n",
    "neighbors = grid_search.cv_results_['param_n_neighbors'].tolist()\n",
    "metric = grid_search.cv_results_['param_metric'].tolist()\n",
    "\n",
    "result = pd.DataFrame({'neighbors': neighbors, 'metric': metric, 'scores': scores})\n",
    "\n",
    "fig, axes = plt.subplots(1, 2, figsize = (12, 4), sharey = True)\n",
    "sns.lineplot(x = result['neighbors'], y = result['scores'], ci = None, ax = axes[0])\n",
    "sns.barplot(x = result['metric'], y = result['scores'], ci = None, ax = axes[1])\n",
    "axes[0].set_title('Score-Neighbors Correlation')\n",
    "axes[1].set_title('Score-Metric Correlation')\n",
    "plt.show()"
   ]
  },
  {
   "cell_type": "code",
   "execution_count": 46,
   "id": "9b061b21",
   "metadata": {},
   "outputs": [
    {
     "name": "stdout",
     "output_type": "stream",
     "text": [
      "Mean CV score: 0.8053262599469496\n"
     ]
    }
   ],
   "source": [
    "print('Mean CV score:', grid_search.cv_results_['mean_test_score'].mean())"
   ]
  },
  {
   "cell_type": "markdown",
   "id": "940220b4",
   "metadata": {},
   "source": [
    "#### Итоговый результат"
   ]
  },
  {
   "cell_type": "code",
   "execution_count": 47,
   "id": "e6b532c0",
   "metadata": {},
   "outputs": [
    {
     "name": "stdout",
     "output_type": "stream",
     "text": [
      "              precision    recall  f1-score   support\n",
      "\n",
      "           0       1.00      0.79      0.88        14\n",
      "           1       0.56      1.00      0.71         5\n",
      "           2       1.00      1.00      1.00         2\n",
      "           3       1.00      1.00      1.00        22\n",
      "           4       1.00      0.96      0.98        23\n",
      "\n",
      "    accuracy                           0.94        66\n",
      "   macro avg       0.91      0.95      0.91        66\n",
      "weighted avg       0.97      0.94      0.95        66\n",
      "\n"
     ]
    }
   ],
   "source": [
    "best_knn = grid_search.best_estimator_\n",
    "best_knn.fit(X_train_scaled, y_train)\n",
    "y_pred = best_knn.predict(X_test_scaled)\n",
    "print(classification_report(y_test, y_pred))"
   ]
  },
  {
   "cell_type": "markdown",
   "id": "9438af08",
   "metadata": {},
   "source": [
    "### Logistic Regression"
   ]
  },
  {
   "cell_type": "markdown",
   "id": "7ab16d08",
   "metadata": {},
   "source": [
    "#### Предсказание"
   ]
  },
  {
   "cell_type": "code",
   "execution_count": 48,
   "id": "4ad274f3",
   "metadata": {},
   "outputs": [
    {
     "name": "stdout",
     "output_type": "stream",
     "text": [
      "              precision    recall  f1-score   support\n",
      "\n",
      "           0       1.00      0.71      0.83        14\n",
      "           1       0.62      1.00      0.77         5\n",
      "           2       1.00      1.00      1.00         2\n",
      "           3       1.00      0.91      0.95        22\n",
      "           4       0.88      1.00      0.94        23\n",
      "\n",
      "    accuracy                           0.91        66\n",
      "   macro avg       0.90      0.92      0.90        66\n",
      "weighted avg       0.93      0.91      0.91        66\n",
      "\n"
     ]
    }
   ],
   "source": [
    "from sklearn.linear_model import LogisticRegression\n",
    "\n",
    "simple_logreg = LogisticRegression()\n",
    "simple_logreg.fit(X_train, y_train)\n",
    "y_pred = simple_logreg.predict(X_test)\n",
    "\n",
    "print(classification_report(y_test, y_pred))"
   ]
  },
  {
   "cell_type": "code",
   "execution_count": 49,
   "id": "2dc15016",
   "metadata": {},
   "outputs": [
    {
     "name": "stdout",
     "output_type": "stream",
     "text": [
      "Number of iterations: [100]\n"
     ]
    }
   ],
   "source": [
    "print('Number of iterations:', simple_logreg.n_iter_)"
   ]
  },
  {
   "cell_type": "markdown",
   "id": "af611941",
   "metadata": {},
   "source": [
    "#### Подбор гиперпараметров"
   ]
  },
  {
   "cell_type": "markdown",
   "id": "59898e1d",
   "metadata": {},
   "source": [
    "Будем использовать `l1`-регуляризацию, т.к. нам нужно отобрать только наиболее значимые признаки. В дальнейшем это упростит интерпретацию."
   ]
  },
  {
   "cell_type": "code",
   "execution_count": 50,
   "id": "b5d5925d",
   "metadata": {},
   "outputs": [
    {
     "name": "stdout",
     "output_type": "stream",
     "text": [
      "Best parameters: {'C': 10}\n"
     ]
    }
   ],
   "source": [
    "logreg = LogisticRegression(max_iter = 10000, penalty='l1', solver='liblinear')\n",
    "\n",
    "parameters = {\n",
    "    'C': [1, 10, 100, 1000, 10000]\n",
    "}\n",
    "\n",
    "grid_search = GridSearchCV(logreg, parameters, cv = 5, n_jobs = -1)\n",
    "grid_search.fit(X_train, y_train)\n",
    "print('Best parameters:', grid_search.best_params_)"
   ]
  },
  {
   "cell_type": "code",
   "execution_count": 51,
   "id": "b8d4e55c",
   "metadata": {},
   "outputs": [
    {
     "name": "stdout",
     "output_type": "stream",
     "text": [
      "Mean CV score: 0.9488615384615384\n"
     ]
    }
   ],
   "source": [
    "print('Mean CV score:', grid_search.cv_results_['mean_test_score'].mean())"
   ]
  },
  {
   "cell_type": "code",
   "execution_count": 52,
   "id": "9ddf3a7f",
   "metadata": {
    "scrolled": false
   },
   "outputs": [
    {
     "data": {
      "image/png": "[encoded data removed]",
      "text/plain": [
       "<Figure size 432x288 with 1 Axes>"
      ]
     },
     "metadata": {
      "needs_background": "light"
     },
     "output_type": "display_data"
    }
   ],
   "source": [
    "scores = grid_search.cv_results_['mean_test_score']\n",
    "C = grid_search.cv_results_['param_C'].tolist()\n",
    "\n",
    "result = pd.DataFrame({'C': C, 'scores': scores})\n",
    "\n",
    "sns.lineplot(x = result['C'], y = result['scores'], ci = None)\n",
    "plt.title('Regularization-Score Correlation')\n",
    "plt.show()"
   ]
  },
  {
   "cell_type": "markdown",
   "id": "98f857ad",
   "metadata": {},
   "source": [
    "#### Итоговый результат"
   ]
  },
  {
   "cell_type": "code",
   "execution_count": 53,
   "id": "c73c3230",
   "metadata": {},
   "outputs": [
    {
     "name": "stdout",
     "output_type": "stream",
     "text": [
      "              precision    recall  f1-score   support\n",
      "\n",
      "           0       1.00      0.86      0.92        14\n",
      "           1       0.71      1.00      0.83         5\n",
      "           2       1.00      1.00      1.00         2\n",
      "           3       0.96      1.00      0.98        22\n",
      "           4       1.00      0.96      0.98        23\n",
      "\n",
      "    accuracy                           0.95        66\n",
      "   macro avg       0.93      0.96      0.94        66\n",
      "weighted avg       0.96      0.95      0.96        66\n",
      "\n"
     ]
    }
   ],
   "source": [
    "best_logreg = grid_search.best_estimator_\n",
    "best_logreg.fit(X_train, y_train)\n",
    "y_pred = best_logreg.predict(X_test)\n",
    "\n",
    "print(classification_report(y_test, y_pred))"
   ]
  },
  {
   "cell_type": "markdown",
   "id": "8a30f221",
   "metadata": {},
   "source": [
    "#### Интерпретация модели"
   ]
  },
  {
   "cell_type": "code",
   "execution_count": 54,
   "id": "0cac5793",
   "metadata": {},
   "outputs": [],
   "source": [
    "coef = best_logreg.coef_.T"
   ]
  },
  {
   "cell_type": "code",
   "execution_count": 55,
   "id": "50bd2584",
   "metadata": {},
   "outputs": [
    {
     "data": {
      "image/png": "[encoded data removed]",
      "text/plain": [
       "<Figure size 720x576 with 2 Axes>"
      ]
     },
     "metadata": {
      "needs_background": "light"
     },
     "output_type": "display_data"
    }
   ],
   "source": [
    "r = pd.DataFrame()\n",
    "\n",
    "for i in range(len(features)):\n",
    "    r[features[i]] = np.abs(coef[i])\n",
    "r = r.rename({0: 'A', 1: 'B', 2: 'C', 3: 'X', 4: 'Y'})\n",
    "\n",
    "plt.figure(figsize = (10, 8))\n",
    "sns.heatmap(r,  annot = True, cmap = 'crest_r')\n",
    "plt.title('Weights Heatmap')\n",
    "plt.show()"
   ]
  },
  {
   "cell_type": "markdown",
   "id": "bf0cf1f6",
   "metadata": {},
   "source": [
    "### Decision Tree"
   ]
  },
  {
   "cell_type": "markdown",
   "id": "d2b74bbe",
   "metadata": {},
   "source": [
    "#### Предсказание"
   ]
  },
  {
   "cell_type": "code",
   "execution_count": 56,
   "id": "972bc338",
   "metadata": {},
   "outputs": [
    {
     "name": "stdout",
     "output_type": "stream",
     "text": [
      "              precision    recall  f1-score   support\n",
      "\n",
      "           0       0.93      1.00      0.97        14\n",
      "           1       1.00      0.80      0.89         5\n",
      "           2       1.00      1.00      1.00         2\n",
      "           3       1.00      1.00      1.00        22\n",
      "           4       1.00      1.00      1.00        23\n",
      "\n",
      "    accuracy                           0.98        66\n",
      "   macro avg       0.99      0.96      0.97        66\n",
      "weighted avg       0.99      0.98      0.98        66\n",
      "\n"
     ]
    }
   ],
   "source": [
    "from sklearn.tree import DecisionTreeClassifier\n",
    "\n",
    "simple_tree = DecisionTreeClassifier()\n",
    "simple_tree.fit(X_train, y_train)\n",
    "y_pred = simple_tree.predict(X_test)\n",
    "\n",
    "print(classification_report(y_test, y_pred))"
   ]
  },
  {
   "cell_type": "markdown",
   "id": "a76f96f7",
   "metadata": {},
   "source": [
    "#### Подбор гиперпараметров"
   ]
  },
  {
   "cell_type": "code",
   "execution_count": 57,
   "id": "17922502",
   "metadata": {},
   "outputs": [
    {
     "name": "stdout",
     "output_type": "stream",
     "text": [
      "Best parameters: {'max_depth': 4, 'min_samples_leaf': 1}\n"
     ]
    }
   ],
   "source": [
    "tree = DecisionTreeClassifier()\n",
    "\n",
    "parameters = {\n",
    "    'max_depth': list(range(1, 10)),\n",
    "    'min_samples_leaf': list(range(1, 10))\n",
    "}\n",
    "\n",
    "grid_search = GridSearchCV(tree, parameters, cv = 5, n_jobs = -1)\n",
    "grid_search.fit(X_train, y_train)\n",
    "print('Best parameters:', grid_search.best_params_)"
   ]
  },
  {
   "cell_type": "code",
   "execution_count": 58,
   "id": "bd34b831",
   "metadata": {},
   "outputs": [
    {
     "name": "stdout",
     "output_type": "stream",
     "text": [
      "Mean CV score: 0.9105982905982906\n"
     ]
    }
   ],
   "source": [
    "print('Mean CV score:', grid_search.cv_results_['mean_test_score'].mean())"
   ]
  },
  {
   "cell_type": "code",
   "execution_count": 59,
   "id": "21f56ae9",
   "metadata": {
    "scrolled": false
   },
   "outputs": [
    {
     "data": {
      "image/png": "[encoded data removed]",
      "text/plain": [
       "<Figure size 432x288 with 1 Axes>"
      ]
     },
     "metadata": {
      "needs_background": "light"
     },
     "output_type": "display_data"
    }
   ],
   "source": [
    "scores = grid_search.cv_results_['mean_test_score']\n",
    "max_depth = grid_search.cv_results_['param_max_depth'].tolist()\n",
    "\n",
    "result = pd.DataFrame(\n",
    "    {\n",
    "    'max_depth': max_depth, \n",
    "    'scores': scores\n",
    "    }\n",
    ")\n",
    "\n",
    "sns.lineplot(x = result['max_depth'], y = result['scores'], ci = None)\n",
    "plt.title('Score-MaxDepth Correlation')\n",
    "plt.show()"
   ]
  },
  {
   "cell_type": "markdown",
   "id": "1dd01cfc",
   "metadata": {},
   "source": [
    "#### Итоговый результат"
   ]
  },
  {
   "cell_type": "code",
   "execution_count": 60,
   "id": "e28ac03a",
   "metadata": {},
   "outputs": [
    {
     "name": "stdout",
     "output_type": "stream",
     "text": [
      "              precision    recall  f1-score   support\n",
      "\n",
      "           0       0.93      1.00      0.97        14\n",
      "           1       1.00      0.80      0.89         5\n",
      "           2       1.00      1.00      1.00         2\n",
      "           3       1.00      1.00      1.00        22\n",
      "           4       1.00      1.00      1.00        23\n",
      "\n",
      "    accuracy                           0.98        66\n",
      "   macro avg       0.99      0.96      0.97        66\n",
      "weighted avg       0.99      0.98      0.98        66\n",
      "\n"
     ]
    }
   ],
   "source": [
    "best_tree = grid_search.best_estimator_\n",
    "best_tree.fit(X_train, y_train)\n",
    "y_pred = best_tree.predict(X_test)\n",
    "\n",
    "print(classification_report(y_test, y_pred))"
   ]
  },
  {
   "cell_type": "markdown",
   "id": "54e5e8c6",
   "metadata": {},
   "source": [
    "#### Интерпретация модели"
   ]
  },
  {
   "cell_type": "code",
   "execution_count": 61,
   "id": "b352db17",
   "metadata": {
    "scrolled": false
   },
   "outputs": [
    {
     "data": {
      "image/png": "[encoded data removed]",
      "text/plain": [
       "<Figure size 1080x1080 with 1 Axes>"
      ]
     },
     "metadata": {
      "needs_background": "light"
     },
     "output_type": "display_data"
    }
   ],
   "source": [
    "from sklearn.tree import plot_tree\n",
    "fig = plt.figure(figsize = (15, 15))\n",
    "plot_tree(best_tree, feature_names = features, class_names = classes, filled = True)\n",
    "plt.title('Decision Tree Plot')\n",
    "plt.show()"
   ]
  },
  {
   "cell_type": "markdown",
   "id": "a18c727f",
   "metadata": {},
   "source": [
    "### Выводы"
   ]
  },
  {
   "cell_type": "markdown",
   "id": "19ee348c",
   "metadata": {},
   "source": [
    "Метод KNN с использованием нормализации дал вполне неплохие результаты на тестовой выборке, но не очень хорошие на кросс-валидации. Наилучшее качество было получено при использовании логистической регрессии и дерева решений. Они показали примерно одинаковые результаты на кросс-валидации и на тестовой выборке. Для предсказаний на этих данных лично я бы использовал дерево решений, т.к. оно дало более высокие показатели  по макроусреднению F1-меры. Также дерево практически идеально выбрало предикаты, которые подтвердили раннее выдвинутую гипотезу, что говорит о хорошей интерпретируемости."
   ]
  }
 ],
 "metadata": {
  "kernelspec": {
   "display_name": "Python 3 (ipykernel)",
   "language": "python",
   "name": "python3"
  },
  "language_info": {
   "codemirror_mode": {
    "name": "ipython",
    "version": 3
   },
   "file_extension": ".py",
   "mimetype": "text/x-python",
   "name": "python",
   "nbconvert_exporter": "python",
   "pygments_lexer": "ipython3",
   "version": "3.9.7"
  },
  "toc": {
   "base_numbering": "1",
   "nav_menu": {},
   "number_sections": false,
   "sideBar": true,
   "skip_h1_title": true,
   "title_cell": "Содержание",
   "title_sidebar": "Contents",
   "toc_cell": true,
   "toc_position": {
    "height": "calc(100% - 180px)",
    "left": "10px",
    "top": "150px",
    "width": "230.6px"
   },
   "toc_section_display": true,
   "toc_window_display": true
  }
 },
 "nbformat": 4,
 "nbformat_minor": 5
}
